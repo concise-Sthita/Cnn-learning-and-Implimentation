{
 "cells": [
  {
   "cell_type": "markdown",
   "id": "93f2d2f2-6c0a-4807-9c04-f7be398f7ce1",
   "metadata": {},
   "source": [
    "#STHITAPRAGYAN MAHAPATRA\n",
    "#FET/BCE/2021-25/107"
   ]
  },
  {
   "cell_type": "code",
   "execution_count": 3,
   "id": "ea7ae257-f63a-4275-a8f2-c5db862c83a3",
   "metadata": {},
   "outputs": [
    {
     "name": "stdout",
     "output_type": "stream",
     "text": [
      "WARNING:tensorflow:From C:\\ProgramData\\anaconda3\\Lib\\site-packages\\keras\\src\\losses.py:2976: The name tf.losses.sparse_softmax_cross_entropy is deprecated. Please use tf.compat.v1.losses.sparse_softmax_cross_entropy instead.\n",
      "\n"
     ]
    }
   ],
   "source": [
    "import numpy as np\n",
    "import pandas as pd\n",
    "import seaborn as sns\n",
    "import matplotlib.pyplot as plt\n",
    "import tensorflow as tf"
   ]
  },
  {
   "cell_type": "code",
   "execution_count": 4,
   "id": "675421a4-b299-4815-8897-f572499ffcd5",
   "metadata": {},
   "outputs": [
    {
     "name": "stdout",
     "output_type": "stream",
     "text": [
      "Downloading data from https://www.cs.toronto.edu/~kriz/cifar-10-python.tar.gz\n",
      "170498071/170498071 [==============================] - 252s 1us/step\n"
     ]
    }
   ],
   "source": [
    "(Xtrain,ytrain),(Xtest,ytest)=tf.keras.datasets.cifar10.load_data()"
   ]
  },
  {
   "cell_type": "code",
   "execution_count": 5,
   "id": "4a710259-6d94-4355-9a2e-a3b7568ea79c",
   "metadata": {},
   "outputs": [
    {
     "data": {
      "text/plain": [
       "array([[6],\n",
       "       [9],\n",
       "       [9],\n",
       "       ...,\n",
       "       [9],\n",
       "       [1],\n",
       "       [1]], dtype=uint8)"
      ]
     },
     "execution_count": 5,
     "metadata": {},
     "output_type": "execute_result"
    }
   ],
   "source": [
    "ytrain"
   ]
  },
  {
   "cell_type": "code",
   "execution_count": 6,
   "id": "c93db81b-29b0-4448-ba41-9bae3175b493",
   "metadata": {},
   "outputs": [
    {
     "data": {
      "text/plain": [
       "<matplotlib.image.AxesImage at 0x229dc620090>"
      ]
     },
     "execution_count": 6,
     "metadata": {},
     "output_type": "execute_result"
    },
    {
     "data": {
      "image/png": "[encoded data removed]",
      "text/plain": [
       "<Figure size 640x480 with 1 Axes>"
      ]
     },
     "metadata": {},
     "output_type": "display_data"
    }
   ],
   "source": [
    "plt.imshow(Xtrain[3])"
   ]
  },
  {
   "cell_type": "code",
   "execution_count": 7,
   "id": "49fd8efa-c4f8-41ae-95f8-c31a3d45aab0",
   "metadata": {},
   "outputs": [
    {
     "data": {
      "text/plain": [
       "(10000, 1)"
      ]
     },
     "execution_count": 7,
     "metadata": {},
     "output_type": "execute_result"
    }
   ],
   "source": [
    "ytest.shape"
   ]
  },
  {
   "cell_type": "code",
   "execution_count": 8,
   "id": "d7ab1eda-dd3d-4640-8c72-94472f5a41aa",
   "metadata": {},
   "outputs": [],
   "source": [
    "ytrain,ytest=ytrain.reshape(-1),ytest.reshape(-1)"
   ]
  },
  {
   "cell_type": "code",
   "execution_count": 14,
   "id": "0c783211-ae2e-423e-a4d2-9a8ae2b13a32",
   "metadata": {},
   "outputs": [],
   "source": [
    "labels=['airplane','automobile','bird','cat','deer','dog','frog','horse','ship','truck']"
   ]
  },
  {
   "cell_type": "markdown",
   "id": "6844b991-9a60-45b3-9891-89012c29e6ae",
   "metadata": {},
   "source": [
    "##Innitialising CNN"
   ]
  },
  {
   "cell_type": "code",
   "execution_count": 15,
   "id": "83e6b507-8de1-4a5b-b74a-a4fc70f24dfd",
   "metadata": {},
   "outputs": [],
   "source": [
    "Xtrain_processed=(Xtrain / Xtrain.max()).astype(np.float32)\n",
    "Xtest_processed=(Xtest / Xtest.max()).astype(np.float32)"
   ]
  },
  {
   "cell_type": "code",
   "execution_count": 16,
   "id": "4a9a5bdc-f263-4634-957f-fef652e93652",
   "metadata": {},
   "outputs": [],
   "source": [
    "model=tf.keras.Sequential(layers=None)\n",
    "model.add(tf.keras.layers.Convolution2D(32,(3,3),strides=(1,1),padding='valid',activation='relu',input_shape=Xtrain.shape[1:]))\n",
    "model.add(tf.keras.layers.MaxPool2D(pool_size=(2,2),strides=None,padding='valid',data_format=None))\n",
    "model.add(tf.keras.layers.Convolution2D(64,(3,3),strides=(1,1),padding='valid',activation='relu'))\n",
    "model.add(tf.keras.layers.MaxPool2D(pool_size=(2,2),strides=None,padding='valid',data_format=None))\n",
    "model.add(tf.keras.layers.Convolution2D(64,(3,3),strides=(1,1),padding='valid',activation='relu'))"
   ]
  },
  {
   "cell_type": "code",
   "execution_count": 17,
   "id": "833d3b62-d608-4ff2-a465-8357402e3e87",
   "metadata": {},
   "outputs": [
    {
     "name": "stdout",
     "output_type": "stream",
     "text": [
      "Model: \"sequential_1\"\n",
      "_________________________________________________________________\n",
      " Layer (type)                Output Shape              Param #   \n",
      "=================================================================\n",
      " conv2d_3 (Conv2D)           (None, 30, 30, 32)        896       \n",
      "                                                                 \n",
      " max_pooling2d_2 (MaxPoolin  (None, 15, 15, 32)        0         \n",
      " g2D)                                                            \n",
      "                                                                 \n",
      " conv2d_4 (Conv2D)           (None, 13, 13, 64)        18496     \n",
      "                                                                 \n",
      " max_pooling2d_3 (MaxPoolin  (None, 6, 6, 64)          0         \n",
      " g2D)                                                            \n",
      "                                                                 \n",
      " conv2d_5 (Conv2D)           (None, 4, 4, 64)          36928     \n",
      "                                                                 \n",
      "=================================================================\n",
      "Total params: 56320 (220.00 KB)\n",
      "Trainable params: 56320 (220.00 KB)\n",
      "Non-trainable params: 0 (0.00 Byte)\n",
      "_________________________________________________________________\n"
     ]
    }
   ],
   "source": [
    "model.summary()"
   ]
  },
  {
   "cell_type": "code",
   "execution_count": 18,
   "id": "3581e824-90ca-46b7-a93c-5df08192a8f8",
   "metadata": {},
   "outputs": [
    {
     "name": "stdout",
     "output_type": "stream",
     "text": [
      "Model: \"sequential_1\"\n",
      "_________________________________________________________________\n",
      " Layer (type)                Output Shape              Param #   \n",
      "=================================================================\n",
      " conv2d_3 (Conv2D)           (None, 30, 30, 32)        896       \n",
      "                                                                 \n",
      " max_pooling2d_2 (MaxPoolin  (None, 15, 15, 32)        0         \n",
      " g2D)                                                            \n",
      "                                                                 \n",
      " conv2d_4 (Conv2D)           (None, 13, 13, 64)        18496     \n",
      "                                                                 \n",
      " max_pooling2d_3 (MaxPoolin  (None, 6, 6, 64)          0         \n",
      " g2D)                                                            \n",
      "                                                                 \n",
      " conv2d_5 (Conv2D)           (None, 4, 4, 64)          36928     \n",
      "                                                                 \n",
      " flatten_1 (Flatten)         (None, 1024)              0         \n",
      "                                                                 \n",
      " dense_2 (Dense)             (None, 64)                65600     \n",
      "                                                                 \n",
      " dense_3 (Dense)             (None, 10)                650       \n",
      "                                                                 \n",
      "=================================================================\n",
      "Total params: 122570 (478.79 KB)\n",
      "Trainable params: 122570 (478.79 KB)\n",
      "Non-trainable params: 0 (0.00 Byte)\n",
      "_________________________________________________________________\n"
     ]
    }
   ],
   "source": [
    "model.add(tf.keras.layers.Flatten())\n",
    "model.add(tf.keras.layers.Dense(64,activation='relu'))\n",
    "model.add(tf.keras.layers.Dense(10,activation='softmax'))\n",
    "model.summary()"
   ]
  },
  {
   "cell_type": "code",
   "execution_count": 33,
   "id": "d30d1bc9-63e9-494f-89e5-6e7386b5b9da",
   "metadata": {},
   "outputs": [
    {
     "name": "stdout",
     "output_type": "stream",
     "text": [
      "Epoch 1/10\n",
      "1094/1094 [==============================] - 13s 11ms/step - loss: 0.5802 - accuracy: 0.7915 - val_loss: 0.9429 - val_accuracy: 0.6903\n",
      "Epoch 2/10\n",
      "1094/1094 [==============================] - 12s 11ms/step - loss: 0.5360 - accuracy: 0.8110 - val_loss: 0.9662 - val_accuracy: 0.7014\n",
      "Epoch 3/10\n",
      "1094/1094 [==============================] - 12s 11ms/step - loss: 0.4954 - accuracy: 0.8238 - val_loss: 0.9941 - val_accuracy: 0.6887\n",
      "Epoch 4/10\n",
      "1094/1094 [==============================] - 12s 11ms/step - loss: 0.4589 - accuracy: 0.8378 - val_loss: 1.0630 - val_accuracy: 0.6877\n",
      "Epoch 5/10\n",
      "1094/1094 [==============================] - 12s 11ms/step - loss: 0.4249 - accuracy: 0.8490 - val_loss: 1.0621 - val_accuracy: 0.6877\n",
      "Epoch 6/10\n",
      "1094/1094 [==============================] - 12s 11ms/step - loss: 0.3869 - accuracy: 0.8641 - val_loss: 1.1571 - val_accuracy: 0.6752\n",
      "Epoch 7/10\n",
      "1094/1094 [==============================] - 12s 11ms/step - loss: 0.3601 - accuracy: 0.8729 - val_loss: 1.1966 - val_accuracy: 0.6793\n",
      "Epoch 8/10\n",
      "1094/1094 [==============================] - 12s 11ms/step - loss: 0.3276 - accuracy: 0.8831 - val_loss: 1.2323 - val_accuracy: 0.6815\n",
      "Epoch 9/10\n",
      "1094/1094 [==============================] - 12s 11ms/step - loss: 0.3026 - accuracy: 0.8916 - val_loss: 1.2693 - val_accuracy: 0.6902\n",
      "Epoch 10/10\n",
      "1094/1094 [==============================] - 12s 11ms/step - loss: 0.2674 - accuracy: 0.9038 - val_loss: 1.4011 - val_accuracy: 0.6765\n"
     ]
    },
    {
     "data": {
      "text/plain": [
       "<keras.src.callbacks.History at 0x229ea19c050>"
      ]
     },
     "execution_count": 33,
     "metadata": {},
     "output_type": "execute_result"
    }
   ],
   "source": [
    "model.compile(optimizer='adam',loss=tf.keras.losses.SparseCategoricalCrossentropy(),metrics=['accuracy'])\n",
    "model.fit(x=Xtrain_processed,y=ytrain,batch_size=None,epochs=10,verbose='auto',callbacks=None,validation_split=0.3,\n",
    "                  validation_data=None,shuffle=True)"
   ]
  },
  {
   "cell_type": "code",
   "execution_count": 50,
   "id": "dd8e9bf0-488a-41e7-9c3d-14ea2428ee45",
   "metadata": {},
   "outputs": [
    {
     "data": {
      "image/png": "[encoded data removed]",
      "text/plain": [
       "<Figure size 640x480 with 1 Axes>"
      ]
     },
     "metadata": {},
     "output_type": "display_data"
    }
   ],
   "source": [
    "random_index=np.random.choice(range(Xtest.shape[0]))\n",
    "plt.imshow(Xtest[random_index])\n",
    "plt.title(labels[ytest[random_index]])\n",
    "plt.show()"
   ]
  },
  {
   "cell_type": "code",
   "execution_count": 51,
   "id": "b8963c55-ac0e-48b8-8a1f-a1909bb45445",
   "metadata": {},
   "outputs": [
    {
     "name": "stdout",
     "output_type": "stream",
     "text": [
      "1/1 [==============================] - 0s 20ms/step\n"
     ]
    }
   ],
   "source": [
    "probabilities=model.predict(Xtest[[random_index]])"
   ]
  },
  {
   "cell_type": "code",
   "execution_count": 52,
   "id": "11fac33a-56a1-4313-93ef-fb07f0bfd66c",
   "metadata": {},
   "outputs": [
    {
     "name": "stdout",
     "output_type": "stream",
     "text": [
      "airplane ----> 0.0\n",
      "automobile ----> 1.0\n",
      "bird ----> 0.0\n",
      "cat ----> 0.0\n",
      "deer ----> 0.0\n",
      "dog ----> 0.0\n",
      "frog ----> 0.0\n",
      "horse ----> 0.0\n",
      "ship ----> 0.0\n",
      "truck ----> 0.0\n"
     ]
    }
   ],
   "source": [
    "for i in range(10):\n",
    "    print(labels[i],\"---->\",probabilities[0][i])"
   ]
  },
  {
   "cell_type": "code",
   "execution_count": 53,
   "id": "3f43fa98-af0a-4790-b2c9-bf4c3d542aaf",
   "metadata": {},
   "outputs": [],
   "source": [
    "pred=list(probabilities[0])"
   ]
  },
  {
   "cell_type": "code",
   "execution_count": 54,
   "id": "40aaf714-f5b1-489d-aaf6-6ccf93737331",
   "metadata": {},
   "outputs": [
    {
     "name": "stdout",
     "output_type": "stream",
     "text": [
      "The image is : automobile\n"
     ]
    }
   ],
   "source": [
    "print(\"The image is :\",labels[pred.index(max(pred))])"
   ]
  }
 ],
 "metadata": {
  "kernelspec": {
   "display_name": "Python 3 (ipykernel)",
   "language": "python",
   "name": "python3"
  },
  "language_info": {
   "codemirror_mode": {
    "name": "ipython",
    "version": 3
   },
   "file_extension": ".py",
   "mimetype": "text/x-python",
   "name": "python",
   "nbconvert_exporter": "python",
   "pygments_lexer": "ipython3",
   "version": "3.11.5"
  }
 },
 "nbformat": 4,
 "nbformat_minor": 5
}
